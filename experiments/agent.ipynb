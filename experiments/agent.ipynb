{
 "cells": [
  {
   "cell_type": "code",
   "execution_count": 1,
   "id": "685902c9",
   "metadata": {},
   "outputs": [],
   "source": [
    "from dotenv import load_dotenv\n",
    "import os\n",
    "from pydantic import BaseModel\n",
    "from langchain_openai import OpenAI  \n",
    "from langchain.agents import initialize_agent, AgentType\n",
    "from langchain.tools import StructuredTool"
   ]
  },
  {
   "cell_type": "code",
   "execution_count": 2,
   "id": "1ba3e849",
   "metadata": {},
   "outputs": [
    {
     "data": {
      "text/plain": [
       "True"
      ]
     },
     "execution_count": 2,
     "metadata": {},
     "output_type": "execute_result"
    }
   ],
   "source": [
    "load_dotenv()"
   ]
  },
  {
   "cell_type": "code",
   "execution_count": 16,
   "id": "a7522398",
   "metadata": {},
   "outputs": [
    {
     "name": "stdout",
     "output_type": "stream",
     "text": [
      "\n",
      "\n",
      "\u001b[1m> Entering new AgentExecutor chain...\u001b[0m\n",
      "\u001b[32;1m\u001b[1;3mAction:\n",
      "```\n",
      "{\n",
      "  \"action\": \"WeatherInfo\",\n",
      "  \"action_input\": {\n",
      "    \"city\": \"São Paulo\"\n",
      "  }\n",
      "}\n",
      "```\n",
      "\n",
      "\u001b[0m\n",
      "Observation: \u001b[36;1m\u001b[1;3mO clima em São Paulo está ensolarado com 25°C.\u001b[0m\n",
      "Thought:\u001b[32;1m\u001b[1;3m Agora, vamos converter a moeda.\n",
      "Action:\n",
      "```\n",
      "{\n",
      "  \"action\": \"CurrencyConverter\",\n",
      "  \"action_input\": {\n",
      "    \"from_currency\": \"USD\",\n",
      "    \"to_currency\": \"BRL\"\n",
      "  }\n",
      "}\n",
      "```\n",
      "\n",
      "\u001b[0m\n",
      "Observation: \u001b[33;1m\u001b[1;3m1 USD = 5.42 BRL\u001b[0m\n",
      "Thought:\u001b[32;1m\u001b[1;3m Agora, vamos responder à pergunta do usuário.\n",
      "Action:\n",
      "```\n",
      "{\n",
      "  \"action\": \"Final Answer\",\n",
      "  \"action_input\": \"O clima em São Paulo está ensolarado com 25°C e 1 USD vale 5.42 BRL.\"\n",
      "}\n",
      "```\n",
      "\n",
      "\u001b[0m\n",
      "\n",
      "\u001b[1m> Finished chain.\u001b[0m\n",
      "🎯 Resposta final: O clima em São Paulo está ensolarado com 25°C e 1 USD vale 5.42 BRL.\n",
      "\n",
      "🧠 Pensamentos e ações:\n",
      "- Pensou: usar WeatherInfo com input {'city': 'São Paulo'}\n",
      "  → Resultado: O clima em São Paulo está ensolarado com 25°C.\n",
      "- Pensou: usar CurrencyConverter com input {'from_currency': 'USD', 'to_currency': 'BRL'}\n",
      "  → Resultado: 1 USD = 5.42 BRL\n"
     ]
    }
   ],
   "source": [
    "# Ferramentas\n",
    "def get_weather(city: str) -> str:\n",
    "    return f\"O clima em {city} está ensolarado com 25°C.\"\n",
    "\n",
    "class WeatherInput(BaseModel):\n",
    "    city: str\n",
    "\n",
    "weather_tool = StructuredTool.from_function(\n",
    "    func=get_weather, name=\"WeatherInfo\",\n",
    "    description=\"Obter clima de uma cidade\",\n",
    "    args_schema=WeatherInput,\n",
    ")\n",
    "\n",
    "def convert_currency(from_currency: str, to_currency: str) -> str:\n",
    "    return f\"1 {from_currency} = 5.42 {to_currency}\"\n",
    "\n",
    "class CurrencyInput(BaseModel):\n",
    "    from_currency: str\n",
    "    to_currency: str\n",
    "\n",
    "currency_tool = StructuredTool.from_function(\n",
    "    func=convert_currency, name=\"CurrencyConverter\",\n",
    "    description=\"Converte moeda de um código para outro\",\n",
    "    args_schema=CurrencyInput,\n",
    ")\n",
    "\n",
    "# LLM e agente\n",
    "llm = OpenAI(temperature=0)\n",
    "agent = initialize_agent(\n",
    "    tools=[weather_tool, currency_tool],\n",
    "    llm=llm,\n",
    "    agent=AgentType.STRUCTURED_CHAT_ZERO_SHOT_REACT_DESCRIPTION,\n",
    "    verbose=True,\n",
    "    return_intermediate_steps=True  # importante\n",
    ")\n",
    "\n",
    "# Rodando o agente\n",
    "query = \"Qual o clima em São Paulo e quanto vale 1 USD em BRL?\"\n",
    "result = agent({ \"input\": query })\n",
    "\n",
    "# Saída\n",
    "print(\"🎯 Resposta final:\", result[\"output\"])\n",
    "print(\"\\n🧠 Pensamentos e ações:\")\n",
    "for action, obs in result[\"intermediate_steps\"]:\n",
    "    print(f\"- Pensou: usar {action.tool} com input {action.tool_input}\")\n",
    "    print(f\"  → Resultado: {obs}\")"
   ]
  },
  {
   "cell_type": "code",
   "execution_count": 26,
   "id": "6ba1bedd",
   "metadata": {},
   "outputs": [
    {
     "name": "stdout",
     "output_type": "stream",
     "text": [
      "- Pensou: usar ferramenta 'WeatherInfo' com input '{'city': 'São Paulo'}'\n",
      "  → Observação retornada: O clima em São Paulo está ensolarado com 25°C.\n",
      "- Pensou: usar ferramenta 'CurrencyConverter' com input '{'from_currency': 'USD', 'to_currency': 'BRL'}'\n",
      "  → Observação retornada: 1 USD = 5.42 BRL\n"
     ]
    }
   ],
   "source": [
    "for action, obs in result[\"intermediate_steps\"]:\n",
    "    print(f\"- Pensou: usar ferramenta '{action.tool}' com input '{action.tool_input}'\")\n",
    "    print(f\"  → Observação retornada: {obs}\")"
   ]
  },
  {
   "cell_type": "code",
   "execution_count": 23,
   "id": "e6bd912c",
   "metadata": {},
   "outputs": [
    {
     "name": "stdout",
     "output_type": "stream",
     "text": [
      "🧠 Thought + Action log:\n",
      "Action:\n",
      "```\n",
      "{\n",
      "  \"action\": \"WeatherInfo\",\n",
      "  \"action_input\": {\n",
      "    \"city\": \"São Paulo\"\n",
      "  }\n",
      "}\n",
      "```\n",
      "\n",
      "\n",
      "🎯 Observation: O clima em São Paulo está ensolarado com 25°C.\n",
      "---\n",
      "🧠 Thought + Action log:\n",
      " Agora, vamos converter a moeda.\n",
      "Action:\n",
      "```\n",
      "{\n",
      "  \"action\": \"CurrencyConverter\",\n",
      "  \"action_input\": {\n",
      "    \"from_currency\": \"USD\",\n",
      "    \"to_currency\": \"BRL\"\n",
      "  }\n",
      "}\n",
      "```\n",
      "\n",
      "\n",
      "🎯 Observation: 1 USD = 5.42 BRL\n",
      "---\n"
     ]
    }
   ],
   "source": [
    "for action, obs in result[\"intermediate_steps\"]:\n",
    "    print(\"🧠 Thought + Action log:\")\n",
    "    print(action.log)           # Aqui está seu Thought + Action + Action Input\n",
    "    print(\"🎯 Observation:\", obs)\n",
    "    print(\"---\")\n"
   ]
  },
  {
   "cell_type": "code",
   "execution_count": 25,
   "id": "aa6d2fc7",
   "metadata": {},
   "outputs": [
    {
     "name": "stdout",
     "output_type": "stream",
     "text": [
      "💭 Thought: Action:\n",
      "```\n",
      "{\n",
      "  \"action\": \"WeatherInfo\",\n",
      "  \"action_input\": {\n",
      "    \"city\": \"São Paulo\"\n",
      "  }\n",
      "}\n",
      "```\n",
      "🎯 Observation: O clima em São Paulo está ensolarado com 25°C.\n",
      "---\n",
      "💭 Thought: Agora, vamos converter a moeda.\n",
      "🎯 Observation: 1 USD = 5.42 BRL\n",
      "---\n"
     ]
    }
   ],
   "source": [
    "for action, obs in result[\"intermediate_steps\"]:\n",
    "    log = action.log\n",
    "    thought = log.split(\"\\nAction:\")[0]  # pega tudo antes de \"Action:\"\n",
    "    print(\"💭 Thought:\", thought.strip())\n",
    "    print(\"🎯 Observation:\", obs)\n",
    "    print(\"---\")\n"
   ]
  },
  {
   "cell_type": "code",
   "execution_count": null,
   "id": "4d26dab3",
   "metadata": {},
   "outputs": [],
   "source": []
  }
 ],
 "metadata": {
  "kernelspec": {
   "display_name": "grune_interview",
   "language": "python",
   "name": "python3"
  },
  "language_info": {
   "codemirror_mode": {
    "name": "ipython",
    "version": 3
   },
   "file_extension": ".py",
   "mimetype": "text/x-python",
   "name": "python",
   "nbconvert_exporter": "python",
   "pygments_lexer": "ipython3",
   "version": "3.13.5"
  }
 },
 "nbformat": 4,
 "nbformat_minor": 5
}
